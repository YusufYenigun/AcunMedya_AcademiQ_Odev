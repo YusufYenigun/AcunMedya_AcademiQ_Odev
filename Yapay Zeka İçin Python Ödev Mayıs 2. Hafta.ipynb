{
 "cells": [
  {
   "cell_type": "markdown",
   "id": "59f94119-bc1c-4e94-a002-ef759b76ee68",
   "metadata": {},
   "source": [
    "# OCR Nedir? (Optical Character Recognition)\n",
    "### OCR (Optik Karakter Tanıma); kağıt üzerindeki veya dijital görsellerdeki yazıları okuyup dijital metne dönüştüren teknolojidir.\n",
    "\n"
   ]
  },
  {
   "cell_type": "markdown",
   "id": "76d1286b-3216-4e5c-9a81-3b4233639fc0",
   "metadata": {},
   "source": [
    "## Nerede Kullanılır?"
   ]
  },
  {
   "cell_type": "markdown",
   "id": "5a1fca64-3691-4b0b-bde5-34604b7c468b",
   "metadata": {},
   "source": [
    "Kimlik / fatura tarama sistemleri\n",
    "\n",
    "Plaka tanıma\n",
    "\n",
    "El yazısı veya baskı belge dijitalleştirme\n",
    "\n",
    "Otomatik veri giriş sistemleri\n",
    "\n",
    "Yapay zeka destekli belge sınıflandırma"
   ]
  },
  {
   "cell_type": "markdown",
   "id": "df8bb88a-ed27-4643-8ae8-febb6031d763",
   "metadata": {},
   "source": [
    "## NAsıl"
   ]
  },
  {
   "cell_type": "code",
   "execution_count": 1,
   "id": "2627603b-a73b-44d9-8998-61f93e5ae726",
   "metadata": {},
   "outputs": [
    {
     "ename": "SyntaxError",
     "evalue": "invalid syntax (2864568246.py, line 1)",
     "output_type": "error",
     "traceback": [
      "\u001b[1;36m  Cell \u001b[1;32mIn[1], line 1\u001b[1;36m\u001b[0m\n\u001b[1;33m    pip install pytesseract\u001b[0m\n\u001b[1;37m        ^\u001b[0m\n\u001b[1;31mSyntaxError\u001b[0m\u001b[1;31m:\u001b[0m invalid syntax\n"
     ]
    }
   ],
   "source": [
    "pip install pytesseract\n",
    "pip install opencv-python\n"
   ]
  },
  {
   "cell_type": "code",
   "execution_count": null,
   "id": "0d86d983-e2d2-46b1-9187-e44620ac2cb2",
   "metadata": {},
   "outputs": [],
   "source": [
    "import cv2\n",
    "import pytesseract\n",
    "\n",
    "# Eğer Windows kullanıyorsanız:\n",
    "# pytesseract.pytesseract.tesseract_cmd = r'C:\\Program Files\\Tesseract-OCR\\tesseract.exe'\n",
    "\n",
    "# Görüntüyü oku\n",
    "image = cv2.imread(\"belge.png\")\n",
    "\n",
    "# Gri tona çevir (daha iyi sonuç için)\n",
    "gray = cv2.cvtColor(image, cv2.COLOR_BGR2GRAY)\n",
    "\n",
    "# OCR işlemi\n",
    "text = pytesseract.image_to_string(gray, lang='tur')\n",
    "print(\"Tespit edilen metin:\")\n",
    "print(text)\n"
   ]
  }
 ],
 "metadata": {
  "kernelspec": {
   "display_name": "Python 3 (ipykernel)",
   "language": "python",
   "name": "python3"
  },
  "language_info": {
   "codemirror_mode": {
    "name": "ipython",
    "version": 3
   },
   "file_extension": ".py",
   "mimetype": "text/x-python",
   "name": "python",
   "nbconvert_exporter": "python",
   "pygments_lexer": "ipython3",
   "version": "3.9.10"
  }
 },
 "nbformat": 4,
 "nbformat_minor": 5
}
