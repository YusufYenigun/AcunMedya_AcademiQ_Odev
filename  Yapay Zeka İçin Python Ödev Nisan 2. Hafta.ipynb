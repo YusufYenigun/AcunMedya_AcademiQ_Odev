{
 "cells": [
  {
   "cell_type": "markdown",
   "id": "0c04c68e-ad99-45b1-9f33-5557a9a2961f",
   "metadata": {},
   "source": [
    "# Desicion Tree (Karar Ağaçları) ve Random Forest (Rassal Orman) Algoritmaları"
   ]
  },
  {
   "cell_type": "markdown",
   "id": "666ac4e7-6bd4-4a55-9f95-b316cc4edbec",
   "metadata": {},
   "source": [
    "## Desicion Tree (Karar Ağaçları):"
   ]
  },
  {
   "cell_type": "markdown",
   "id": "96002273-b114-4a13-aefc-4fb9bb261cf1",
   "metadata": {},
   "source": [
    "Decision Tree, veriyi ağaç yapısı şeklinde dallara ayırarak sınıflandırma ya da tahmin yapar. Her **düğüm (node)** bir özelliğe göre veriyi böler, **yaprak (leaf)** düğümleri ise sonucu temsil eder."
   ]
  },
  {
   "cell_type": "markdown",
   "id": "389dc98a-158f-4a07-8e5a-5a14fdc56a22",
   "metadata": {},
   "source": [
    "### Ne İşe Yarar?"
   ]
  },
  {
   "cell_type": "markdown",
   "id": "5cbba08f-0d17-449f-a7ab-6eeade84b8be",
   "metadata": {},
   "source": [
    "- Verileri kurala dayalı bir şekilde sııflandırma veya tahmin etmeye yarar.\n",
    "- Hangi özelliğin daha etkili olduğunu görselleştirmeye yarar.\n",
    "- Karar verme süreçlerini modellemek."
   ]
  },
  {
   "cell_type": "markdown",
   "id": "a74675fc-0fd0-43e8-aacd-42b96c20cbce",
   "metadata": {},
   "source": [
    "## Random Forest:"
   ]
  },
  {
   "cell_type": "markdown",
   "id": "b9fd323e-7886-47eb-81d7-f71b6b58add7",
   "metadata": {},
   "source": [
    "Random Forest, birden fazla **decision tree'nin bir arada çalıştığı** bir algoritmadır. Her bir ağaç farklı veri altkümesine ve özelliklere göre eğitilir. Sonuçta ağaçların çoğunluk kararı alınır."
   ]
  },
  {
   "cell_type": "markdown",
   "id": "092e6b54-0f88-4c6e-ac9e-42c717efc676",
   "metadata": {},
   "source": [
    "## Ne İşe Yarar?"
   ]
  },
  {
   "cell_type": "markdown",
   "id": "1c4c57d6-d7dc-4569-ae4f-61fbf4373f12",
   "metadata": {},
   "source": [
    "- Overfitting (aşırı öğrenme) sorununu azaltır.\n",
    "- Daha kararlı ve doğru sonuçlar üretir.\n",
    "- Hem sınıflandırma hem regresyonda güçlü bir algoritmadır."
   ]
  },
  {
   "cell_type": "markdown",
   "id": "31e01e43-7e5e-45cc-b770-4ff94ffea2ca",
   "metadata": {},
   "source": [
    "## Farklılık Tablosu"
   ]
  },
  {
   "cell_type": "markdown",
   "id": "f0af6d21-a8d8-41e4-a7e5-72f82351b79b",
   "metadata": {},
   "source": [
    "| Özellik              | Decision Tree       | Random Forest         |\n",
    "|----------------------|---------------------|------------------------|\n",
    "| Hızlı ve yorumlanabilir mi? | ✅ Evet             | ❌ Hayır (daha karmaşık) |\n",
    "| Aşırı öğrenme riski?  | ❌ Yüksek           | ✅ Düşük               |\n",
    "| Doğruluk              | 🟡 Orta             | ✅ Genelde daha yüksek |\n",
    "| Özellik önemi        | ✅ Görülebilir      | ✅ Görülebilir         |\n"
   ]
  }
 ],
 "metadata": {
  "kernelspec": {
   "display_name": "Python 3 (ipykernel)",
   "language": "python",
   "name": "python3"
  },
  "language_info": {
   "codemirror_mode": {
    "name": "ipython",
    "version": 3
   },
   "file_extension": ".py",
   "mimetype": "text/x-python",
   "name": "python",
   "nbconvert_exporter": "python",
   "pygments_lexer": "ipython3",
   "version": "3.9.10"
  }
 },
 "nbformat": 4,
 "nbformat_minor": 5
}
